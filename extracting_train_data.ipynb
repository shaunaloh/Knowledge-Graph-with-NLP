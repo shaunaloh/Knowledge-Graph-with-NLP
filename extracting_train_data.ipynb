{
 "cells": [
  {
   "cell_type": "code",
   "execution_count": 2,
   "id": "c1d62e16",
   "metadata": {},
   "outputs": [],
   "source": [
    "import json\n",
    "import os\n",
    "\n",
    "from functools import reduce\n",
    "import regex as re"
   ]
  },
  {
   "cell_type": "code",
   "execution_count": 8,
   "id": "da235982",
   "metadata": {},
   "outputs": [],
   "source": [
    "with open(\"./train_annotated.json\", \"r\") as f:\n",
    "    train = json.load(f)"
   ]
  },
  {
   "cell_type": "code",
   "execution_count": 9,
   "id": "9bcb0da6",
   "metadata": {},
   "outputs": [
    {
     "data": {
      "text/plain": [
       "list"
      ]
     },
     "execution_count": 9,
     "metadata": {},
     "output_type": "execute_result"
    }
   ],
   "source": [
    "type(train)"
   ]
  },
  {
   "cell_type": "code",
   "execution_count": 10,
   "id": "308124df",
   "metadata": {},
   "outputs": [
    {
     "data": {
      "text/plain": [
       "3053"
      ]
     },
     "execution_count": 10,
     "metadata": {},
     "output_type": "execute_result"
    }
   ],
   "source": [
    "len(train)"
   ]
  },
  {
   "cell_type": "code",
   "execution_count": 11,
   "id": "eaa32765",
   "metadata": {},
   "outputs": [
    {
     "data": {
      "text/plain": [
       "{'vertexSet': [[{'pos': [0, 4],\n",
       "    'type': 'ORG',\n",
       "    'sent_id': 0,\n",
       "    'name': 'Zest Airways, Inc.'},\n",
       "   {'sent_id': 0,\n",
       "    'type': 'ORG',\n",
       "    'pos': [10, 15],\n",
       "    'name': 'Asian Spirit and Zest Air'},\n",
       "   {'name': 'AirAsia Zest', 'pos': [6, 8], 'sent_id': 0, 'type': 'ORG'},\n",
       "   {'name': 'AirAsia Zest', 'pos': [19, 21], 'sent_id': 6, 'type': 'ORG'}],\n",
       "  [{'name': 'Ninoy Aquino International Airport',\n",
       "    'pos': [4, 8],\n",
       "    'sent_id': 3,\n",
       "    'type': 'LOC'},\n",
       "   {'name': 'Ninoy Aquino International Airport',\n",
       "    'pos': [26, 30],\n",
       "    'sent_id': 0,\n",
       "    'type': 'LOC'}],\n",
       "  [{'name': 'Pasay City', 'pos': [31, 33], 'sent_id': 0, 'type': 'LOC'}],\n",
       "  [{'name': 'Metro Manila', 'pos': [34, 36], 'sent_id': 0, 'type': 'LOC'}],\n",
       "  [{'name': 'Philippines', 'pos': [38, 39], 'sent_id': 0, 'type': 'LOC'},\n",
       "   {'name': 'Philippines', 'pos': [13, 14], 'sent_id': 4, 'type': 'LOC'},\n",
       "   {'sent_id': 5,\n",
       "    'type': 'LOC',\n",
       "    'pos': [25, 29],\n",
       "    'name': 'Republic of the Philippines'}],\n",
       "  [{'name': 'Manila', 'pos': [13, 14], 'sent_id': 1, 'type': 'LOC'},\n",
       "   {'name': 'Manila', 'pos': [9, 10], 'sent_id': 3, 'type': 'LOC'}],\n",
       "  [{'name': 'Cebu', 'pos': [15, 16], 'sent_id': 1, 'type': 'LOC'}],\n",
       "  [{'pos': [17, 18], 'type': 'NUM', 'sent_id': 1, 'name': '24'}],\n",
       "  [{'pos': [1, 2], 'type': 'TIME', 'sent_id': 2, 'name': '2013'},\n",
       "   {'pos': [1, 5], 'type': 'TIME', 'sent_id': 5, 'name': 'August 16, 2013'}],\n",
       "  [{'pos': [9, 11],\n",
       "    'type': 'ORG',\n",
       "    'name': 'Philippines AirAsia',\n",
       "    'sent_id': 2}],\n",
       "  [{'pos': [5, 7], 'type': 'ORG', 'sent_id': 4, 'name': 'Asian Spirit'}],\n",
       "  [{'pos': [7, 13],\n",
       "    'type': 'ORG',\n",
       "    'sent_id': 5,\n",
       "    'name': 'Civil Aviation Authority of the Philippines'},\n",
       "   {'name': 'CAAP', 'pos': [14, 15], 'sent_id': 5, 'type': 'ORG'}],\n",
       "  [{'name': 'Zest Air', 'pos': [34, 36], 'sent_id': 5, 'type': 'ORG'},\n",
       "   {'pos': [7, 9], 'type': 'ORG', 'sent_id': 6, 'name': 'Zest Air'}],\n",
       "  [{'sent_id': 6, 'type': 'NUM', 'pos': [2, 4], 'name': 'a year'}],\n",
       "  [{'name': 'AirAsia', 'pos': [5, 6], 'sent_id': 6, 'type': 'ORG'}],\n",
       "  [{'pos': [5, 7],\n",
       "    'type': 'ORG',\n",
       "    'name': 'AirAsia Philippines',\n",
       "    'sent_id': 7}],\n",
       "  [{'pos': [8, 10], 'type': 'TIME', 'sent_id': 7, 'name': 'January 2016'}]],\n",
       " 'labels': [{'r': 'P159', 'h': 0, 't': 2, 'evidence': [0]},\n",
       "  {'r': 'P17', 'h': 0, 't': 4, 'evidence': [2, 4, 7]},\n",
       "  {'r': 'P17', 'h': 12, 't': 4, 'evidence': [6, 7]},\n",
       "  {'r': 'P17', 'h': 2, 't': 4, 'evidence': [0]},\n",
       "  {'r': 'P131', 'h': 2, 't': 3, 'evidence': [0]},\n",
       "  {'r': 'P150', 'h': 4, 't': 3, 'evidence': [0]},\n",
       "  {'r': 'P17', 'h': 5, 't': 4, 'evidence': [0, 3]},\n",
       "  {'r': 'P150', 'h': 3, 't': 2, 'evidence': [0]},\n",
       "  {'r': 'P131', 'h': 3, 't': 4, 'evidence': [0, 3]},\n",
       "  {'r': 'P17', 'h': 3, 't': 4, 'evidence': [0, 3]},\n",
       "  {'r': 'P131', 'h': 1, 't': 2, 'evidence': [0, 3]},\n",
       "  {'r': 'P17', 'h': 1, 't': 4, 'evidence': [0, 3]},\n",
       "  {'r': 'P17', 'h': 10, 't': 4, 'evidence': [4]}],\n",
       " 'title': 'AirAsia Zest',\n",
       " 'sents': [['Zest',\n",
       "   'Airways',\n",
       "   ',',\n",
       "   'Inc.',\n",
       "   'operated',\n",
       "   'as',\n",
       "   'AirAsia',\n",
       "   'Zest',\n",
       "   '(',\n",
       "   'formerly',\n",
       "   'Asian',\n",
       "   'Spirit',\n",
       "   'and',\n",
       "   'Zest',\n",
       "   'Air',\n",
       "   ')',\n",
       "   ',',\n",
       "   'was',\n",
       "   'a',\n",
       "   'low',\n",
       "   '-',\n",
       "   'cost',\n",
       "   'airline',\n",
       "   'based',\n",
       "   'at',\n",
       "   'the',\n",
       "   'Ninoy',\n",
       "   'Aquino',\n",
       "   'International',\n",
       "   'Airport',\n",
       "   'in',\n",
       "   'Pasay',\n",
       "   'City',\n",
       "   ',',\n",
       "   'Metro',\n",
       "   'Manila',\n",
       "   'in',\n",
       "   'the',\n",
       "   'Philippines',\n",
       "   '.'],\n",
       "  ['It',\n",
       "   'operated',\n",
       "   'scheduled',\n",
       "   'domestic',\n",
       "   'and',\n",
       "   'international',\n",
       "   'tourist',\n",
       "   'services',\n",
       "   ',',\n",
       "   'mainly',\n",
       "   'feeder',\n",
       "   'services',\n",
       "   'linking',\n",
       "   'Manila',\n",
       "   'and',\n",
       "   'Cebu',\n",
       "   'with',\n",
       "   '24',\n",
       "   'domestic',\n",
       "   'destinations',\n",
       "   'in',\n",
       "   'support',\n",
       "   'of',\n",
       "   'the',\n",
       "   'trunk',\n",
       "   'route',\n",
       "   'operations',\n",
       "   'of',\n",
       "   'other',\n",
       "   'airlines',\n",
       "   '.'],\n",
       "  ['In',\n",
       "   '2013',\n",
       "   ',',\n",
       "   'the',\n",
       "   'airline',\n",
       "   'became',\n",
       "   'an',\n",
       "   'affiliate',\n",
       "   'of',\n",
       "   'Philippines',\n",
       "   'AirAsia',\n",
       "   'operating',\n",
       "   'their',\n",
       "   'brand',\n",
       "   'separately',\n",
       "   '.'],\n",
       "  ['Its',\n",
       "   'main',\n",
       "   'base',\n",
       "   'was',\n",
       "   'Ninoy',\n",
       "   'Aquino',\n",
       "   'International',\n",
       "   'Airport',\n",
       "   ',',\n",
       "   'Manila',\n",
       "   '.'],\n",
       "  ['The',\n",
       "   'airline',\n",
       "   'was',\n",
       "   'founded',\n",
       "   'as',\n",
       "   'Asian',\n",
       "   'Spirit',\n",
       "   ',',\n",
       "   'the',\n",
       "   'first',\n",
       "   'airline',\n",
       "   'in',\n",
       "   'the',\n",
       "   'Philippines',\n",
       "   'to',\n",
       "   'be',\n",
       "   'run',\n",
       "   'as',\n",
       "   'a',\n",
       "   'cooperative',\n",
       "   '.'],\n",
       "  ['On',\n",
       "   'August',\n",
       "   '16',\n",
       "   ',',\n",
       "   '2013',\n",
       "   ',',\n",
       "   'the',\n",
       "   'Civil',\n",
       "   'Aviation',\n",
       "   'Authority',\n",
       "   'of',\n",
       "   'the',\n",
       "   'Philippines',\n",
       "   '(',\n",
       "   'CAAP',\n",
       "   ')',\n",
       "   ',',\n",
       "   'the',\n",
       "   'regulating',\n",
       "   'body',\n",
       "   'of',\n",
       "   'the',\n",
       "   'Government',\n",
       "   'of',\n",
       "   'the',\n",
       "   'Republic',\n",
       "   'of',\n",
       "   'the',\n",
       "   'Philippines',\n",
       "   'for',\n",
       "   'civil',\n",
       "   'aviation',\n",
       "   ',',\n",
       "   'suspended',\n",
       "   'Zest',\n",
       "   'Air',\n",
       "   'flights',\n",
       "   'until',\n",
       "   'further',\n",
       "   'notice',\n",
       "   'because',\n",
       "   'of',\n",
       "   'safety',\n",
       "   'issues',\n",
       "   '.'],\n",
       "  ['Less',\n",
       "   'than',\n",
       "   'a',\n",
       "   'year',\n",
       "   'after',\n",
       "   'AirAsia',\n",
       "   'and',\n",
       "   'Zest',\n",
       "   'Air',\n",
       "   \"'s\",\n",
       "   'strategic',\n",
       "   'alliance',\n",
       "   ',',\n",
       "   'the',\n",
       "   'airline',\n",
       "   'has',\n",
       "   'been',\n",
       "   'rebranded',\n",
       "   'as',\n",
       "   'AirAsia',\n",
       "   'Zest',\n",
       "   '.'],\n",
       "  ['The',\n",
       "   'airline',\n",
       "   'was',\n",
       "   'merged',\n",
       "   'into',\n",
       "   'AirAsia',\n",
       "   'Philippines',\n",
       "   'in',\n",
       "   'January',\n",
       "   '2016',\n",
       "   '.']]}"
      ]
     },
     "execution_count": 11,
     "metadata": {},
     "output_type": "execute_result"
    }
   ],
   "source": [
    "train[0]"
   ]
  },
  {
   "cell_type": "code",
   "execution_count": 12,
   "id": "03f6669f",
   "metadata": {},
   "outputs": [
    {
     "data": {
      "text/plain": [
       "dict"
      ]
     },
     "execution_count": 12,
     "metadata": {},
     "output_type": "execute_result"
    }
   ],
   "source": [
    "type(train[0])"
   ]
  },
  {
   "cell_type": "code",
   "execution_count": 13,
   "id": "9b4d143b",
   "metadata": {
    "scrolled": true
   },
   "outputs": [
    {
     "data": {
      "text/plain": [
       "dict_keys(['vertexSet', 'labels', 'title', 'sents'])"
      ]
     },
     "execution_count": 13,
     "metadata": {},
     "output_type": "execute_result"
    }
   ],
   "source": [
    "train[0].keys()"
   ]
  },
  {
   "cell_type": "code",
   "execution_count": 15,
   "id": "2b7543a3",
   "metadata": {},
   "outputs": [],
   "source": [
    "text = []\n",
    "for sent in train[0][\"sents\"]:\n",
    "    text += sent\n",
    "text=\" \".join(text)"
   ]
  },
  {
   "cell_type": "code",
   "execution_count": 16,
   "id": "f9c50dba",
   "metadata": {},
   "outputs": [
    {
     "data": {
      "text/plain": [
       "\"Zest Airways , Inc. operated as AirAsia Zest ( formerly Asian Spirit and Zest Air ) , was a low - cost airline based at the Ninoy Aquino International Airport in Pasay City , Metro Manila in the Philippines . It operated scheduled domestic and international tourist services , mainly feeder services linking Manila and Cebu with 24 domestic destinations in support of the trunk route operations of other airlines . In 2013 , the airline became an affiliate of Philippines AirAsia operating their brand separately . Its main base was Ninoy Aquino International Airport , Manila . The airline was founded as Asian Spirit , the first airline in the Philippines to be run as a cooperative . On August 16 , 2013 , the Civil Aviation Authority of the Philippines ( CAAP ) , the regulating body of the Government of the Republic of the Philippines for civil aviation , suspended Zest Air flights until further notice because of safety issues . Less than a year after AirAsia and Zest Air 's strategic alliance , the airline has been rebranded as AirAsia Zest . The airline was merged into AirAsia Philippines in January 2016 .\""
      ]
     },
     "execution_count": 16,
     "metadata": {},
     "output_type": "execute_result"
    }
   ],
   "source": [
    "text"
   ]
  },
  {
   "cell_type": "code",
   "execution_count": 16,
   "id": "b6973ef9",
   "metadata": {},
   "outputs": [
    {
     "data": {
      "text/plain": [
       "'AirAsia Zest'"
      ]
     },
     "execution_count": 16,
     "metadata": {},
     "output_type": "execute_result"
    }
   ],
   "source": [
    "train[0][\"title\"]"
   ]
  },
  {
   "cell_type": "code",
   "execution_count": 18,
   "id": "ae6fc68c",
   "metadata": {},
   "outputs": [],
   "source": [
    "for x in range(len(train)):\n",
    "    train[x][\"newtitle\"] = re.sub('[\\n\\\\\\*><?:\\\"|\\t/]', '', train[x][\"title\"])\n",
    "    train[x][\"newtitle\"] = train[x][\"newtitle\"].strip()    "
   ]
  },
  {
   "cell_type": "code",
   "execution_count": 19,
   "id": "62d5fd06",
   "metadata": {},
   "outputs": [],
   "source": [
    "title_list=[]\n",
    "for title in range(len(train)):\n",
    "    title_list.append(train[title][\"title\"])\n",
    "#print(title_list)"
   ]
  },
  {
   "cell_type": "code",
   "execution_count": 20,
   "id": "209bf944",
   "metadata": {},
   "outputs": [],
   "source": [
    "newtitle_list=[]\n",
    "for newtitle in range(len(train)):\n",
    "    newtitle_list.append(train[newtitle][\"newtitle\"])\n",
    "#print(newtitle_list)"
   ]
  },
  {
   "cell_type": "code",
   "execution_count": 21,
   "id": "1f73a722",
   "metadata": {},
   "outputs": [],
   "source": [
    "#convert old and new lists into a dictionary. Key: original title; Value: new title\n",
    "title_dict = {title_list[k]: newtitle_list[k] for k in range(len(title_list))}"
   ]
  },
  {
   "cell_type": "code",
   "execution_count": 23,
   "id": "3a590fa3",
   "metadata": {},
   "outputs": [],
   "source": [
    "#save title_dict as json file\n",
    "with open('title_dict.txt', 'w') as outfile:\n",
    "    json.dump(title_dict, outfile)"
   ]
  },
  {
   "cell_type": "code",
   "execution_count": 24,
   "id": "9b088cbe",
   "metadata": {
    "scrolled": true
   },
   "outputs": [],
   "source": [
    "for t in range(len(train)):\n",
    "    file = open(\"{}.txt\".format(train[t][\"newtitle\"]), \"w\",encoding=\"utf-8\")\n",
    "    file.write(reduce(lambda x, y: x+y, list(map(lambda x: \" \".join(x), train[t][\"sents\"]))))\n",
    "    file.close()"
   ]
  }
 ],
 "metadata": {
  "kernelspec": {
   "display_name": "Python 3",
   "language": "python",
   "name": "python3"
  },
  "language_info": {
   "codemirror_mode": {
    "name": "ipython",
    "version": 3
   },
   "file_extension": ".py",
   "mimetype": "text/x-python",
   "name": "python",
   "nbconvert_exporter": "python",
   "pygments_lexer": "ipython3",
   "version": "3.7.11"
  }
 },
 "nbformat": 4,
 "nbformat_minor": 5
}
